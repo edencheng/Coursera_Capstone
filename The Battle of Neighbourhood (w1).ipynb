{
 "cells": [
  {
   "cell_type": "markdown",
   "metadata": {},
   "source": [
    "Background:\n",
    "Our client is a startup craft beer brewer, they woudl like to setup a distribution network of their craft beer in one of the area in Toronto. Since the supply of craft beer is limited, they would like to find out where should they setup their selling network to maximize their profit. \n",
    "\n",
    "Statement of Problem:\n",
    "-supply and \"Best Tasting Period\" are limited, and the target selling price of their beers is 60% more expensive than branded beers e.g. Heineken, Budweiser, \n",
    "-beers with special flavour like herbs, sours, salty lemon, etc. (Asian Flavour) \n",
    "\n",
    "Based on the above, our client would like to find out a place that there is lots of bar/pubs/restaurants (especially including asian foods restaurants as our client think that it would be an advantage if people has exposure on Asian culture) and people are willing and affordable to spend money on my beers. \n",
    "\n",
    "Audience: Our client (a startup craft beer brewer)\n",
    "\n",
    "________________________________________________________________________________________\n",
    "Data:\n",
    "Analytic approach: we will explore the ares around Toronto, and analyze the distribuion of bar/pubs/restaurants and people's spending pattern (i.e. how frequency people go to bar/pubs/restaurants)  \n",
    "\n",
    "Data ource: FourSquare developer API will provide all the location data we need to investigate this question.\n",
    "\n",
    "Data required: Initially we will create a bar/pubs/restaurants density measure for each area, and also a ratio of asian foods restaurants. Then we will analze people's spending pattern (i.e. how frequency people go to bar/pubs/restaurants)\n"
   ]
  }
 ],
 "metadata": {
  "kernelspec": {
   "display_name": "Python 3",
   "language": "python",
   "name": "python3"
  },
  "language_info": {
   "codemirror_mode": {
    "name": "ipython",
    "version": 3
   },
   "file_extension": ".py",
   "mimetype": "text/x-python",
   "name": "python",
   "nbconvert_exporter": "python",
   "pygments_lexer": "ipython3",
   "version": "3.6.8"
  }
 },
 "nbformat": 4,
 "nbformat_minor": 2
}
